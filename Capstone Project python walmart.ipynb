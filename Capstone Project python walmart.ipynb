{
 "cells": [
  {
   "cell_type": "markdown",
   "id": "b0637158",
   "metadata": {},
   "source": [
    "# IMPORT PACKAGES"
   ]
  },
  {
   "cell_type": "code",
   "execution_count": 1,
   "id": "10855892",
   "metadata": {},
   "outputs": [],
   "source": [
    "import numpy as np\n",
    "import pandas as pd\n",
    "import matplotlib.pyplot as plt\n",
    "import seaborn as sns\n",
    "%matplotlib inline\n",
    "import warnings\n",
    "warnings.filterwarnings(\"ignore\")"
   ]
  },
  {
   "cell_type": "markdown",
   "id": "003d27bc",
   "metadata": {},
   "source": [
    "# IMPORT DATA"
   ]
  },
  {
   "cell_type": "code",
   "execution_count": 2,
   "id": "2a262681",
   "metadata": {},
   "outputs": [],
   "source": [
    "df = pd.read_csv(\"Walmart Dataset.csv\")"
   ]
  },
  {
   "cell_type": "code",
   "execution_count": 3,
   "id": "4204a6ab",
   "metadata": {},
   "outputs": [
    {
     "data": {
      "text/html": [
       "<div>\n",
       "<style scoped>\n",
       "    .dataframe tbody tr th:only-of-type {\n",
       "        vertical-align: middle;\n",
       "    }\n",
       "\n",
       "    .dataframe tbody tr th {\n",
       "        vertical-align: top;\n",
       "    }\n",
       "\n",
       "    .dataframe thead th {\n",
       "        text-align: right;\n",
       "    }\n",
       "</style>\n",
       "<table border=\"1\" class=\"dataframe\">\n",
       "  <thead>\n",
       "    <tr style=\"text-align: right;\">\n",
       "      <th></th>\n",
       "      <th>Store</th>\n",
       "      <th>Date</th>\n",
       "      <th>Weekly_Sales</th>\n",
       "      <th>Holiday_Flag</th>\n",
       "      <th>Temperature</th>\n",
       "      <th>Fuel_Price</th>\n",
       "      <th>CPI</th>\n",
       "      <th>Unemployment</th>\n",
       "    </tr>\n",
       "  </thead>\n",
       "  <tbody>\n",
       "    <tr>\n",
       "      <th>0</th>\n",
       "      <td>1</td>\n",
       "      <td>05-02-2010</td>\n",
       "      <td>1643690.90</td>\n",
       "      <td>0</td>\n",
       "      <td>42.31</td>\n",
       "      <td>2.572</td>\n",
       "      <td>211.096358</td>\n",
       "      <td>8.106</td>\n",
       "    </tr>\n",
       "    <tr>\n",
       "      <th>1</th>\n",
       "      <td>1</td>\n",
       "      <td>12-02-2010</td>\n",
       "      <td>1641957.44</td>\n",
       "      <td>1</td>\n",
       "      <td>38.51</td>\n",
       "      <td>2.548</td>\n",
       "      <td>211.242170</td>\n",
       "      <td>8.106</td>\n",
       "    </tr>\n",
       "    <tr>\n",
       "      <th>2</th>\n",
       "      <td>1</td>\n",
       "      <td>19-02-2010</td>\n",
       "      <td>1611968.17</td>\n",
       "      <td>0</td>\n",
       "      <td>39.93</td>\n",
       "      <td>2.514</td>\n",
       "      <td>211.289143</td>\n",
       "      <td>8.106</td>\n",
       "    </tr>\n",
       "    <tr>\n",
       "      <th>3</th>\n",
       "      <td>1</td>\n",
       "      <td>26-02-2010</td>\n",
       "      <td>1409727.59</td>\n",
       "      <td>0</td>\n",
       "      <td>46.63</td>\n",
       "      <td>2.561</td>\n",
       "      <td>211.319643</td>\n",
       "      <td>8.106</td>\n",
       "    </tr>\n",
       "    <tr>\n",
       "      <th>4</th>\n",
       "      <td>1</td>\n",
       "      <td>05-03-2010</td>\n",
       "      <td>1554806.68</td>\n",
       "      <td>0</td>\n",
       "      <td>46.50</td>\n",
       "      <td>2.625</td>\n",
       "      <td>211.350143</td>\n",
       "      <td>8.106</td>\n",
       "    </tr>\n",
       "    <tr>\n",
       "      <th>...</th>\n",
       "      <td>...</td>\n",
       "      <td>...</td>\n",
       "      <td>...</td>\n",
       "      <td>...</td>\n",
       "      <td>...</td>\n",
       "      <td>...</td>\n",
       "      <td>...</td>\n",
       "      <td>...</td>\n",
       "    </tr>\n",
       "    <tr>\n",
       "      <th>6430</th>\n",
       "      <td>45</td>\n",
       "      <td>28-09-2012</td>\n",
       "      <td>713173.95</td>\n",
       "      <td>0</td>\n",
       "      <td>64.88</td>\n",
       "      <td>3.997</td>\n",
       "      <td>192.013558</td>\n",
       "      <td>8.684</td>\n",
       "    </tr>\n",
       "    <tr>\n",
       "      <th>6431</th>\n",
       "      <td>45</td>\n",
       "      <td>05-10-2012</td>\n",
       "      <td>733455.07</td>\n",
       "      <td>0</td>\n",
       "      <td>64.89</td>\n",
       "      <td>3.985</td>\n",
       "      <td>192.170412</td>\n",
       "      <td>8.667</td>\n",
       "    </tr>\n",
       "    <tr>\n",
       "      <th>6432</th>\n",
       "      <td>45</td>\n",
       "      <td>12-10-2012</td>\n",
       "      <td>734464.36</td>\n",
       "      <td>0</td>\n",
       "      <td>54.47</td>\n",
       "      <td>4.000</td>\n",
       "      <td>192.327265</td>\n",
       "      <td>8.667</td>\n",
       "    </tr>\n",
       "    <tr>\n",
       "      <th>6433</th>\n",
       "      <td>45</td>\n",
       "      <td>19-10-2012</td>\n",
       "      <td>718125.53</td>\n",
       "      <td>0</td>\n",
       "      <td>56.47</td>\n",
       "      <td>3.969</td>\n",
       "      <td>192.330854</td>\n",
       "      <td>8.667</td>\n",
       "    </tr>\n",
       "    <tr>\n",
       "      <th>6434</th>\n",
       "      <td>45</td>\n",
       "      <td>26-10-2012</td>\n",
       "      <td>760281.43</td>\n",
       "      <td>0</td>\n",
       "      <td>58.85</td>\n",
       "      <td>3.882</td>\n",
       "      <td>192.308899</td>\n",
       "      <td>8.667</td>\n",
       "    </tr>\n",
       "  </tbody>\n",
       "</table>\n",
       "<p>6435 rows × 8 columns</p>\n",
       "</div>"
      ],
      "text/plain": [
       "      Store        Date  Weekly_Sales  Holiday_Flag  Temperature  Fuel_Price  \\\n",
       "0         1  05-02-2010    1643690.90             0        42.31       2.572   \n",
       "1         1  12-02-2010    1641957.44             1        38.51       2.548   \n",
       "2         1  19-02-2010    1611968.17             0        39.93       2.514   \n",
       "3         1  26-02-2010    1409727.59             0        46.63       2.561   \n",
       "4         1  05-03-2010    1554806.68             0        46.50       2.625   \n",
       "...     ...         ...           ...           ...          ...         ...   \n",
       "6430     45  28-09-2012     713173.95             0        64.88       3.997   \n",
       "6431     45  05-10-2012     733455.07             0        64.89       3.985   \n",
       "6432     45  12-10-2012     734464.36             0        54.47       4.000   \n",
       "6433     45  19-10-2012     718125.53             0        56.47       3.969   \n",
       "6434     45  26-10-2012     760281.43             0        58.85       3.882   \n",
       "\n",
       "             CPI  Unemployment  \n",
       "0     211.096358         8.106  \n",
       "1     211.242170         8.106  \n",
       "2     211.289143         8.106  \n",
       "3     211.319643         8.106  \n",
       "4     211.350143         8.106  \n",
       "...          ...           ...  \n",
       "6430  192.013558         8.684  \n",
       "6431  192.170412         8.667  \n",
       "6432  192.327265         8.667  \n",
       "6433  192.330854         8.667  \n",
       "6434  192.308899         8.667  \n",
       "\n",
       "[6435 rows x 8 columns]"
      ]
     },
     "execution_count": 3,
     "metadata": {},
     "output_type": "execute_result"
    }
   ],
   "source": [
    "df"
   ]
  },
  {
   "cell_type": "code",
   "execution_count": 4,
   "id": "ad2f10ba",
   "metadata": {},
   "outputs": [
    {
     "ename": "SyntaxError",
     "evalue": "invalid syntax (66348286.py, line 1)",
     "output_type": "error",
     "traceback": [
      "\u001b[1;36m  File \u001b[1;32m\"C:\\Users\\Avita\\AppData\\Local\\Temp\\ipykernel_10028\\66348286.py\"\u001b[1;36m, line \u001b[1;32m1\u001b[0m\n\u001b[1;33m    sns.relplot[x='Temperature',y='Weekly_Sales']\u001b[0m\n\u001b[1;37m                 ^\u001b[0m\n\u001b[1;31mSyntaxError\u001b[0m\u001b[1;31m:\u001b[0m invalid syntax\n"
     ]
    }
   ],
   "source": [
    "sns.relplot[x='Temperature',y='Weekly_Sales']"
   ]
  },
  {
   "cell_type": "code",
   "execution_count": null,
   "id": "0e3f4a37",
   "metadata": {},
   "outputs": [],
   "source": [
    "df.head()"
   ]
  },
  {
   "cell_type": "code",
   "execution_count": null,
   "id": "6cbe775d",
   "metadata": {},
   "outputs": [],
   "source": [
    "df.dtypes"
   ]
  },
  {
   "cell_type": "code",
   "execution_count": null,
   "id": "71ae5b26",
   "metadata": {},
   "outputs": [],
   "source": [
    "from datetime import datetime"
   ]
  },
  {
   "cell_type": "code",
   "execution_count": null,
   "id": "0d6b9ecd",
   "metadata": {},
   "outputs": [],
   "source": [
    "df['Date'] = pd.to_datetime(df.Date,errors='ignore')"
   ]
  },
  {
   "cell_type": "code",
   "execution_count": null,
   "id": "b5f5901e",
   "metadata": {},
   "outputs": [],
   "source": [
    "df.dtypes"
   ]
  },
  {
   "cell_type": "code",
   "execution_count": null,
   "id": "a22b0d67",
   "metadata": {},
   "outputs": [],
   "source": [
    "#If the weekly sales are affected by the unemployment rate, if yes - which stores are suffering the most?\n",
    "df['Store'].value_counts()"
   ]
  },
  {
   "cell_type": "code",
   "execution_count": null,
   "id": "b7370fd2",
   "metadata": {},
   "outputs": [],
   "source": [
    "df['Weekly_Sales'].sort_values(ascending= True)"
   ]
  },
  {
   "cell_type": "code",
   "execution_count": null,
   "id": "a9c4f6db",
   "metadata": {},
   "outputs": [],
   "source": [
    "df['Unemployment'].sort_values(ascending= True).head(10)"
   ]
  },
  {
   "cell_type": "code",
   "execution_count": null,
   "id": "e31b4577",
   "metadata": {},
   "outputs": [],
   "source": [
    "df.info()"
   ]
  },
  {
   "cell_type": "code",
   "execution_count": null,
   "id": "aa99f0e7",
   "metadata": {},
   "outputs": [],
   "source": [
    "df.index = df['Date']"
   ]
  },
  {
   "cell_type": "code",
   "execution_count": null,
   "id": "0dfa727b",
   "metadata": {},
   "outputs": [],
   "source": [
    "df.head()"
   ]
  },
  {
   "cell_type": "code",
   "execution_count": null,
   "id": "e791f002",
   "metadata": {},
   "outputs": [],
   "source": [
    "#del df['Date']"
   ]
  },
  {
   "cell_type": "code",
   "execution_count": null,
   "id": "635bff47",
   "metadata": {},
   "outputs": [],
   "source": [
    "#col = df.columns\n"
   ]
  },
  {
   "cell_type": "code",
   "execution_count": null,
   "id": "74735124",
   "metadata": {},
   "outputs": [],
   "source": [
    "df['Fuel_Price']=df['Fuel_Price'].astype('int')\n",
    "df['Weekly_Sales']=df['Weekly_Sales'].astype('int')\n",
    "df['Temperature']=df['Temperature'].astype('int')\n",
    "df['CPI']=df['CPI'].astype('int')\n",
    "df['Unemployment']=df['Unemployment'].astype('int')"
   ]
  },
  {
   "cell_type": "code",
   "execution_count": null,
   "id": "ffd7d563",
   "metadata": {},
   "outputs": [],
   "source": [
    "df"
   ]
  },
  {
   "cell_type": "code",
   "execution_count": null,
   "id": "59b8f23c",
   "metadata": {},
   "outputs": [],
   "source": [
    "df.isnull().sum()"
   ]
  },
  {
   "cell_type": "code",
   "execution_count": null,
   "id": "a0e92640",
   "metadata": {},
   "outputs": [],
   "source": [
    "df.duplicated().sum()"
   ]
  },
  {
   "cell_type": "code",
   "execution_count": null,
   "id": "ef0582f2",
   "metadata": {},
   "outputs": [],
   "source": [
    "df.shape"
   ]
  },
  {
   "cell_type": "code",
   "execution_count": null,
   "id": "3afe4799",
   "metadata": {},
   "outputs": [],
   "source": [
    "df.describe()"
   ]
  },
  {
   "cell_type": "code",
   "execution_count": null,
   "id": "5038411b",
   "metadata": {},
   "outputs": [],
   "source": [
    "df['Store'].nunique()"
   ]
  },
  {
   "cell_type": "code",
   "execution_count": null,
   "id": "831fe94b",
   "metadata": {},
   "outputs": [],
   "source": [
    "df['Weekly_Sales'].value_counts()"
   ]
  },
  {
   "cell_type": "code",
   "execution_count": null,
   "id": "f943c2a2",
   "metadata": {},
   "outputs": [],
   "source": [
    "df['Temperature'].value_counts()"
   ]
  },
  {
   "cell_type": "code",
   "execution_count": null,
   "id": "fe13cb89",
   "metadata": {},
   "outputs": [],
   "source": [
    "df['Weekly_Sales'].nunique"
   ]
  },
  {
   "cell_type": "code",
   "execution_count": null,
   "id": "c42a1a5b",
   "metadata": {},
   "outputs": [],
   "source": [
    "df['Fuel_Price'].value_counts()"
   ]
  },
  {
   "cell_type": "code",
   "execution_count": null,
   "id": "789afbe1",
   "metadata": {},
   "outputs": [],
   "source": [
    "df['CPI'].value_counts()"
   ]
  },
  {
   "cell_type": "markdown",
   "id": "e1599a9f",
   "metadata": {},
   "source": [
    "# EDA"
   ]
  },
  {
   "cell_type": "code",
   "execution_count": null,
   "id": "42ff5e5c",
   "metadata": {},
   "outputs": [],
   "source": [
    "df1 = df.drop(columns=['Store','Holiday_Flag','Temperature','Fuel_Price','CPI','Unemployment'],axis=1)"
   ]
  },
  {
   "cell_type": "code",
   "execution_count": null,
   "id": "ff2881d4",
   "metadata": {},
   "outputs": [],
   "source": [
    "df1"
   ]
  },
  {
   "cell_type": "markdown",
   "id": "d89c5f48",
   "metadata": {},
   "source": [
    "# Rolling Mean and Std"
   ]
  },
  {
   "cell_type": "code",
   "execution_count": null,
   "id": "1250bf5e",
   "metadata": {},
   "outputs": [],
   "source": [
    "rolmean = df1.rolling(window=365).mean()"
   ]
  },
  {
   "cell_type": "code",
   "execution_count": null,
   "id": "00799511",
   "metadata": {},
   "outputs": [],
   "source": [
    "rolmean"
   ]
  },
  {
   "cell_type": "code",
   "execution_count": null,
   "id": "67894f3a",
   "metadata": {},
   "outputs": [],
   "source": [
    "rolstd = df1.rolling(window=365).std()"
   ]
  },
  {
   "cell_type": "code",
   "execution_count": null,
   "id": "74e9c592",
   "metadata": {},
   "outputs": [],
   "source": [
    "print(rolmean,rolstd)"
   ]
  },
  {
   "cell_type": "markdown",
   "id": "aa4fd058",
   "metadata": {},
   "source": [
    "# ADFULLER TEST"
   ]
  },
  {
   "cell_type": "code",
   "execution_count": null,
   "id": "612a954b",
   "metadata": {},
   "outputs": [],
   "source": [
    "from statsmodels.tsa.stattools import adfuller\n"
   ]
  },
  {
   "cell_type": "code",
   "execution_count": null,
   "id": "38f279c3",
   "metadata": {},
   "outputs": [],
   "source": [
    "result=adfuller(df1['Weekly_Sales'])\n",
    "pvalue = result[1]"
   ]
  },
  {
   "cell_type": "code",
   "execution_count": null,
   "id": "4936604a",
   "metadata": {},
   "outputs": [],
   "source": [
    "pvalue"
   ]
  },
  {
   "cell_type": "code",
   "execution_count": null,
   "id": "0688dcd0",
   "metadata": {},
   "outputs": [],
   "source": [
    "if pvalue<0.05:\n",
    "    print('we accept null hypothesis- data is stationary')\n",
    "    \n",
    "else:\n",
    "    print('we reject null hypothesis- data is not stationary')"
   ]
  },
  {
   "cell_type": "markdown",
   "id": "b38db5e4",
   "metadata": {},
   "source": [
    "# Dividing Store wise\n"
   ]
  },
  {
   "cell_type": "code",
   "execution_count": null,
   "id": "21b4e3b9",
   "metadata": {},
   "outputs": [],
   "source": [
    " df_str1=df[df.Store==1] "
   ]
  },
  {
   "cell_type": "code",
   "execution_count": null,
   "id": "43c00928",
   "metadata": {},
   "outputs": [],
   "source": [
    "df_str1"
   ]
  },
  {
   "cell_type": "code",
   "execution_count": null,
   "id": "f0dcd713",
   "metadata": {},
   "outputs": [],
   "source": [
    "sns.relplot[x='Unemployment',y='Weekly_Sales']"
   ]
  },
  {
   "cell_type": "code",
   "execution_count": null,
   "id": "0319ba2a",
   "metadata": {},
   "outputs": [],
   "source": [
    "df_str1= df_str1.drop(columns=['Date','Holiday_Flag','Temperature','Fuel_Price','CPI','Unemployment'],axis=1)"
   ]
  },
  {
   "cell_type": "code",
   "execution_count": null,
   "id": "5a5a00d9",
   "metadata": {},
   "outputs": [],
   "source": [
    "df_str1 = df_str1.reset_index()\n",
    "df_str1"
   ]
  },
  {
   "cell_type": "code",
   "execution_count": null,
   "id": "44864c28",
   "metadata": {},
   "outputs": [],
   "source": [
    "df_str1.plot()"
   ]
  },
  {
   "cell_type": "code",
   "execution_count": null,
   "id": "bec8b577",
   "metadata": {},
   "outputs": [],
   "source": [
    "df_str1_new = df_str1.drop(columns=['Store'])"
   ]
  },
  {
   "cell_type": "code",
   "execution_count": null,
   "id": "83ba9303",
   "metadata": {},
   "outputs": [],
   "source": [
    "df_str1_new"
   ]
  },
  {
   "cell_type": "markdown",
   "id": "72882769",
   "metadata": {},
   "source": [
    "# Import Arima"
   ]
  },
  {
   "cell_type": "code",
   "execution_count": null,
   "id": "4067c0bf",
   "metadata": {},
   "outputs": [],
   "source": [
    "!pip install pmdarima"
   ]
  },
  {
   "cell_type": "code",
   "execution_count": null,
   "id": "7f3da329",
   "metadata": {},
   "outputs": [],
   "source": [
    "from pmdarima import auto_arima"
   ]
  },
  {
   "cell_type": "code",
   "execution_count": null,
   "id": "9c39d0a9",
   "metadata": {},
   "outputs": [],
   "source": [
    "order = auto_arima(df_str1_new['Weekly_Sales'])"
   ]
  },
  {
   "cell_type": "code",
   "execution_count": null,
   "id": "40e7caaa",
   "metadata": {},
   "outputs": [],
   "source": [
    "order.summary()"
   ]
  },
  {
   "cell_type": "markdown",
   "id": "490a9c12",
   "metadata": {},
   "source": [
    "# Model Building"
   ]
  },
  {
   "cell_type": "code",
   "execution_count": null,
   "id": "4bc5be1f",
   "metadata": {},
   "outputs": [],
   "source": [
    "from statsmodels.tsa.arima.model import ARIMA"
   ]
  },
  {
   "cell_type": "code",
   "execution_count": null,
   "id": "5a072141",
   "metadata": {},
   "outputs": [],
   "source": [
    "train =df_str1_new.iloc[:100]['Weekly_Sales']\n",
    "test = df_str1_new.iloc[101:]['Weekly_Sales']"
   ]
  },
  {
   "cell_type": "code",
   "execution_count": null,
   "id": "ffed69d6",
   "metadata": {},
   "outputs": [],
   "source": [
    "train"
   ]
  },
  {
   "cell_type": "code",
   "execution_count": null,
   "id": "36c1f638",
   "metadata": {},
   "outputs": [],
   "source": [
    "test"
   ]
  },
  {
   "cell_type": "code",
   "execution_count": null,
   "id": "e5fabb89",
   "metadata": {},
   "outputs": [],
   "source": [
    "model = ARIMA(train,order=(2,1,3))\n",
    "model_fit= model.fit()"
   ]
  },
  {
   "cell_type": "code",
   "execution_count": null,
   "id": "ef1855a4",
   "metadata": {},
   "outputs": [],
   "source": [
    "df_str1_new['Predict']=model_fit.predict(start=len(train),end=len(train)+len(test)-1,dynamic=True)"
   ]
  },
  {
   "cell_type": "code",
   "execution_count": null,
   "id": "2f52f19b",
   "metadata": {},
   "outputs": [],
   "source": [
    "df_str1_new[['Weekly_Sales','Predict']].plot()"
   ]
  },
  {
   "cell_type": "markdown",
   "id": "2906cf81",
   "metadata": {},
   "source": [
    "#  Sarimax"
   ]
  },
  {
   "cell_type": "code",
   "execution_count": null,
   "id": "2b33c406",
   "metadata": {},
   "outputs": [],
   "source": [
    "from statsmodels.tsa.statespace.sarimax import SARIMAX,SARIMAXResults\n"
   ]
  },
  {
   "cell_type": "code",
   "execution_count": null,
   "id": "576c20fd",
   "metadata": {},
   "outputs": [],
   "source": [
    "model = SARIMAX(train,order=(3,0,3),seasonal_order=(3,0,3,12))\n",
    "model = model.fit()"
   ]
  },
  {
   "cell_type": "code",
   "execution_count": null,
   "id": "f230e649",
   "metadata": {},
   "outputs": [],
   "source": [
    "df_str1_new['Predict']=model_fit.predict(start=len(train),end=len(train)+len(test)-1,dynamic=True)"
   ]
  },
  {
   "cell_type": "code",
   "execution_count": null,
   "id": "916438e7",
   "metadata": {},
   "outputs": [],
   "source": [
    "df_str1_new[['Weekly_Sales','Predict']].plot()"
   ]
  },
  {
   "cell_type": "code",
   "execution_count": null,
   "id": "a7a24a18",
   "metadata": {},
   "outputs": [],
   "source": [
    "forecast=model.forecast(step=60)\n",
    "df_str1_new.plot()\n",
    "forecast.plot()"
   ]
  },
  {
   "cell_type": "markdown",
   "id": "6a92fe3f",
   "metadata": {},
   "source": [
    "# Store 10"
   ]
  },
  {
   "cell_type": "code",
   "execution_count": null,
   "id": "46802e4a",
   "metadata": {},
   "outputs": [],
   "source": [
    " df_str10=df[df.Store==10] "
   ]
  },
  {
   "cell_type": "code",
   "execution_count": null,
   "id": "e1429ad6",
   "metadata": {},
   "outputs": [],
   "source": [
    "df_str10"
   ]
  },
  {
   "cell_type": "code",
   "execution_count": null,
   "id": "3831e59d",
   "metadata": {},
   "outputs": [],
   "source": [
    "plt.figure(figsize=(10,12))\n",
    "sns.relplot[x='Unemployment',y='Weekly_Sales']\n",
    "plt.show()"
   ]
  },
  {
   "cell_type": "code",
   "execution_count": null,
   "id": "bbc15f84",
   "metadata": {},
   "outputs": [],
   "source": [
    "df_str10= df_str10.drop(columns=['Date','Holiday_Flag','Temperature','Fuel_Price','CPI','Unemployment'],axis=1)"
   ]
  },
  {
   "cell_type": "code",
   "execution_count": null,
   "id": "f1559e74",
   "metadata": {},
   "outputs": [],
   "source": [
    "df_str10"
   ]
  },
  {
   "cell_type": "code",
   "execution_count": null,
   "id": "4c869e91",
   "metadata": {},
   "outputs": [],
   "source": [
    "df_str10 = df_str10.drop(columns=['Store'])"
   ]
  },
  {
   "cell_type": "code",
   "execution_count": null,
   "id": "1be1b9a1",
   "metadata": {},
   "outputs": [],
   "source": [
    "df_str10.plot()"
   ]
  },
  {
   "cell_type": "markdown",
   "id": "1a2e8242",
   "metadata": {},
   "source": [
    "# Arima"
   ]
  },
  {
   "cell_type": "code",
   "execution_count": null,
   "id": "d869e238",
   "metadata": {},
   "outputs": [],
   "source": [
    "order = auto_arima(df_str10['Weekly_Sales'])"
   ]
  },
  {
   "cell_type": "code",
   "execution_count": null,
   "id": "288a6f96",
   "metadata": {},
   "outputs": [],
   "source": [
    "order.summary()"
   ]
  },
  {
   "cell_type": "markdown",
   "id": "dd4e57f6",
   "metadata": {},
   "source": [
    "# Model Building"
   ]
  },
  {
   "cell_type": "code",
   "execution_count": null,
   "id": "27d8d7ef",
   "metadata": {},
   "outputs": [],
   "source": [
    "from statsmodels.tsa.arima.model import ARIMA"
   ]
  },
  {
   "cell_type": "code",
   "execution_count": null,
   "id": "358dd358",
   "metadata": {},
   "outputs": [],
   "source": [
    "train =df_str10.iloc[:100]['Weekly_Sales']\n",
    "test = df_str10.iloc[101:]['Weekly_Sales']"
   ]
  },
  {
   "cell_type": "code",
   "execution_count": null,
   "id": "955a7652",
   "metadata": {},
   "outputs": [],
   "source": [
    "train"
   ]
  },
  {
   "cell_type": "code",
   "execution_count": null,
   "id": "cec5ba4c",
   "metadata": {},
   "outputs": [],
   "source": [
    "test"
   ]
  },
  {
   "cell_type": "code",
   "execution_count": null,
   "id": "7ebe1c3b",
   "metadata": {},
   "outputs": [],
   "source": [
    "model = ARIMA(train,order=(2,1,3))\n",
    "model_fit= model.fit()"
   ]
  },
  {
   "cell_type": "code",
   "execution_count": null,
   "id": "a736c072",
   "metadata": {},
   "outputs": [],
   "source": [
    "df_str10['Predict']=model_fit.predict(start=len(train),end=len(train)+len(test)-1,dynamic=True)"
   ]
  },
  {
   "cell_type": "code",
   "execution_count": null,
   "id": "9919c961",
   "metadata": {},
   "outputs": [],
   "source": [
    "df_str10[['Weekly_Sales','Predict']].plot()"
   ]
  },
  {
   "cell_type": "code",
   "execution_count": null,
   "id": "ac701606",
   "metadata": {},
   "outputs": [],
   "source": [
    "from statsmodels.tsa.statespace.sarimax import SARIMAX,SARIMAXResults"
   ]
  },
  {
   "cell_type": "code",
   "execution_count": null,
   "id": "cb0241a4",
   "metadata": {},
   "outputs": [],
   "source": [
    "model = SARIMAX(train,order=(3,0,3),seasonal_order=(3,0,3,365))\n",
    "model = model.fit()"
   ]
  },
  {
   "cell_type": "code",
   "execution_count": null,
   "id": "2ff219cc",
   "metadata": {},
   "outputs": [],
   "source": [
    "df_str10['Predict']=model_fit.predict(start=len(train),end=len(train)+len(test)-1,dynamic=True)"
   ]
  },
  {
   "cell_type": "code",
   "execution_count": null,
   "id": "357397a9",
   "metadata": {},
   "outputs": [],
   "source": [
    "df_str10[['Weekly_Sales','Predict']].plot()"
   ]
  },
  {
   "cell_type": "code",
   "execution_count": null,
   "id": "c6ba021b",
   "metadata": {},
   "outputs": [],
   "source": [
    "forecast=model.forecast(step=60)\n",
    "df_str1_new.plot()\n",
    "forecast.plot()"
   ]
  },
  {
   "cell_type": "markdown",
   "id": "8864dbb6",
   "metadata": {},
   "source": [
    "# Store 15"
   ]
  },
  {
   "cell_type": "code",
   "execution_count": null,
   "id": "cc60340c",
   "metadata": {},
   "outputs": [],
   "source": [
    " df_str15=df[df.Store==15] "
   ]
  },
  {
   "cell_type": "code",
   "execution_count": null,
   "id": "3ac7cbeb",
   "metadata": {},
   "outputs": [],
   "source": [
    "df_str15"
   ]
  },
  {
   "cell_type": "code",
   "execution_count": null,
   "id": "5b643bca",
   "metadata": {},
   "outputs": [],
   "source": [
    "sns.relplot[x='Unemployment',y='Weekly_Sales']"
   ]
  },
  {
   "cell_type": "code",
   "execution_count": null,
   "id": "bf2a496e",
   "metadata": {},
   "outputs": [],
   "source": [
    "df_str15= df_str15.drop(columns=['Date','Holiday_Flag','Temperature','Fuel_Price','CPI','Unemployment'],axis=1)"
   ]
  },
  {
   "cell_type": "code",
   "execution_count": null,
   "id": "23ccc0c5",
   "metadata": {},
   "outputs": [],
   "source": [
    "df_str15"
   ]
  },
  {
   "cell_type": "code",
   "execution_count": null,
   "id": "6b9deba3",
   "metadata": {},
   "outputs": [],
   "source": [
    "df_str15.drop(columns=['Store'])"
   ]
  },
  {
   "cell_type": "code",
   "execution_count": null,
   "id": "4b94b5bf",
   "metadata": {},
   "outputs": [],
   "source": [
    "df_str15.plot()"
   ]
  },
  {
   "cell_type": "markdown",
   "id": "4e733074",
   "metadata": {},
   "source": [
    "# Adfuller Test"
   ]
  },
  {
   "cell_type": "code",
   "execution_count": null,
   "id": "56c8706f",
   "metadata": {},
   "outputs": [],
   "source": [
    "result=adfuller(df1['Weekly_Sales'])\n",
    "pvalue = result[1]"
   ]
  },
  {
   "cell_type": "code",
   "execution_count": null,
   "id": "62cf3801",
   "metadata": {},
   "outputs": [],
   "source": [
    "pvalue"
   ]
  },
  {
   "cell_type": "code",
   "execution_count": null,
   "id": "78ff5e14",
   "metadata": {},
   "outputs": [],
   "source": [
    "if pvalue<0.05:\n",
    "    print('we accept null hypothesis- data is stationary')\n",
    "    \n",
    "else:\n",
    "    print('we reject null hypothesis- data is not stationary')"
   ]
  },
  {
   "cell_type": "markdown",
   "id": "80255db8",
   "metadata": {},
   "source": [
    "# Arima"
   ]
  },
  {
   "cell_type": "code",
   "execution_count": null,
   "id": "9f74bf3f",
   "metadata": {},
   "outputs": [],
   "source": [
    "order = auto_arima(df_str10['Weekly_Sales'])"
   ]
  },
  {
   "cell_type": "code",
   "execution_count": null,
   "id": "0e583e45",
   "metadata": {},
   "outputs": [],
   "source": [
    "order.summary()"
   ]
  },
  {
   "cell_type": "markdown",
   "id": "1dd41ae9",
   "metadata": {},
   "source": [
    "# Model Building"
   ]
  },
  {
   "cell_type": "code",
   "execution_count": null,
   "id": "2d01275b",
   "metadata": {},
   "outputs": [],
   "source": [
    "df_str15= df_str15.reset_index()\n",
    "df_str15"
   ]
  },
  {
   "cell_type": "code",
   "execution_count": null,
   "id": "6d472e84",
   "metadata": {},
   "outputs": [],
   "source": [
    "train =df_str15.iloc[:100]['Weekly_Sales']\n",
    "test = df_str15.iloc[101:]['Weekly_Sales']"
   ]
  },
  {
   "cell_type": "code",
   "execution_count": null,
   "id": "22a66d28",
   "metadata": {},
   "outputs": [],
   "source": [
    "train"
   ]
  },
  {
   "cell_type": "code",
   "execution_count": null,
   "id": "880a92a8",
   "metadata": {},
   "outputs": [],
   "source": [
    "test"
   ]
  },
  {
   "cell_type": "code",
   "execution_count": null,
   "id": "285f6fdc",
   "metadata": {},
   "outputs": [],
   "source": [
    "model = ARIMA(train,order=(2,1,3))\n",
    "model_fit= model.fit()"
   ]
  },
  {
   "cell_type": "code",
   "execution_count": null,
   "id": "36a63c01",
   "metadata": {},
   "outputs": [],
   "source": [
    "df_str15['Predict']=model_fit.predict(start=len(train),end=len(train)+len(test)-1,dynamic=True)"
   ]
  },
  {
   "cell_type": "code",
   "execution_count": null,
   "id": "e58ea15e",
   "metadata": {},
   "outputs": [],
   "source": [
    "df_str15[['Weekly_Sales','Predict']].plot()"
   ]
  },
  {
   "cell_type": "markdown",
   "id": "942e8f6d",
   "metadata": {},
   "source": [
    "# Sarimax"
   ]
  },
  {
   "cell_type": "code",
   "execution_count": null,
   "id": "54b2bc87",
   "metadata": {},
   "outputs": [],
   "source": [
    "model = SARIMAX(train,order=(3,0,3),seasonal_order=(3,0,3,365))\n",
    "model = model.fit()"
   ]
  },
  {
   "cell_type": "code",
   "execution_count": null,
   "id": "b6abe001",
   "metadata": {},
   "outputs": [],
   "source": [
    "df_str15['Predict']=model_fit.predict(start=len(train),end=len(train)+len(test)-1,dynamic=True)"
   ]
  },
  {
   "cell_type": "code",
   "execution_count": null,
   "id": "9972b56b",
   "metadata": {},
   "outputs": [],
   "source": [
    "df_str15[['Weekly_Sales','Predict']].plot()"
   ]
  },
  {
   "cell_type": "code",
   "execution_count": null,
   "id": "c52dc21c",
   "metadata": {},
   "outputs": [],
   "source": [
    "forecast=model.forecast(step=60)\n",
    "df_str1_new.plot()\n",
    "forecast.plot()"
   ]
  },
  {
   "cell_type": "markdown",
   "id": "30505072",
   "metadata": {},
   "source": [
    "# Store 30"
   ]
  },
  {
   "cell_type": "code",
   "execution_count": null,
   "id": "76567f73",
   "metadata": {},
   "outputs": [],
   "source": [
    " df_str30=df[df.Store==30] "
   ]
  },
  {
   "cell_type": "code",
   "execution_count": null,
   "id": "51d55d93",
   "metadata": {},
   "outputs": [],
   "source": [
    "df_str30"
   ]
  },
  {
   "cell_type": "code",
   "execution_count": null,
   "id": "3607bd78",
   "metadata": {},
   "outputs": [],
   "source": [
    "sns.relplot[x='Unemployment',y='Weekly_Sales']\n"
   ]
  },
  {
   "cell_type": "code",
   "execution_count": null,
   "id": "908fdf52",
   "metadata": {},
   "outputs": [],
   "source": [
    "df_str30= df_str30.drop(columns=['Date','Holiday_Flag','Temperature','Fuel_Price','CPI','Unemployment'],axis=1)"
   ]
  },
  {
   "cell_type": "code",
   "execution_count": null,
   "id": "585123be",
   "metadata": {},
   "outputs": [],
   "source": [
    "df_str30"
   ]
  },
  {
   "cell_type": "code",
   "execution_count": null,
   "id": "36ee667b",
   "metadata": {},
   "outputs": [],
   "source": [
    "df_str30.drop(columns=['Store'])"
   ]
  },
  {
   "cell_type": "code",
   "execution_count": null,
   "id": "e508be39",
   "metadata": {},
   "outputs": [],
   "source": [
    "df_str30 = df_str30.reset_index()\n",
    "df_str30"
   ]
  },
  {
   "cell_type": "code",
   "execution_count": null,
   "id": "24872ba4",
   "metadata": {},
   "outputs": [],
   "source": [
    "df_str30.drop(columns=['Store'])"
   ]
  },
  {
   "cell_type": "code",
   "execution_count": null,
   "id": "f174ab3c",
   "metadata": {},
   "outputs": [],
   "source": [
    "df_str30.plot()\n"
   ]
  },
  {
   "cell_type": "markdown",
   "id": "2129e723",
   "metadata": {},
   "source": [
    "# Arima"
   ]
  },
  {
   "cell_type": "code",
   "execution_count": null,
   "id": "6c1ef274",
   "metadata": {},
   "outputs": [],
   "source": [
    "order = auto_arima(df_str30['Weekly_Sales'])"
   ]
  },
  {
   "cell_type": "code",
   "execution_count": null,
   "id": "0dfb0c4e",
   "metadata": {},
   "outputs": [],
   "source": [
    "order.summary()"
   ]
  },
  {
   "cell_type": "markdown",
   "id": "5ccf7eaa",
   "metadata": {},
   "source": [
    "# Model Building"
   ]
  },
  {
   "cell_type": "code",
   "execution_count": null,
   "id": "49576418",
   "metadata": {},
   "outputs": [],
   "source": [
    "train =df_str30.iloc[:100]['Weekly_Sales']\n",
    "test = df_str30.iloc[101:]['Weekly_Sales']"
   ]
  },
  {
   "cell_type": "code",
   "execution_count": null,
   "id": "ef7764cb",
   "metadata": {},
   "outputs": [],
   "source": [
    "train"
   ]
  },
  {
   "cell_type": "code",
   "execution_count": null,
   "id": "99e8eeb2",
   "metadata": {},
   "outputs": [],
   "source": [
    "test"
   ]
  },
  {
   "cell_type": "code",
   "execution_count": null,
   "id": "ae2a7d2e",
   "metadata": {},
   "outputs": [],
   "source": [
    "model = ARIMA(train,order=(2,1,3))\n",
    "model_fit= model.fit()"
   ]
  },
  {
   "cell_type": "code",
   "execution_count": null,
   "id": "f488028f",
   "metadata": {},
   "outputs": [],
   "source": [
    "df_str30['Predict']=model_fit.predict(start=len(train),end=len(train)+len(test)-1,dynamic=True)"
   ]
  },
  {
   "cell_type": "code",
   "execution_count": null,
   "id": "d8660ad7",
   "metadata": {},
   "outputs": [],
   "source": [
    "df_str30[['Weekly_Sales','Predict']].plot()"
   ]
  },
  {
   "cell_type": "markdown",
   "id": "6eedcdae",
   "metadata": {},
   "source": [
    "# Sarimax"
   ]
  },
  {
   "cell_type": "code",
   "execution_count": null,
   "id": "03702e6b",
   "metadata": {},
   "outputs": [],
   "source": [
    "model = SARIMAX(train,order=(3,0,3),seasonal_order=(3,0,3,365))\n",
    "model = model.fit()"
   ]
  },
  {
   "cell_type": "code",
   "execution_count": null,
   "id": "753bd151",
   "metadata": {},
   "outputs": [],
   "source": [
    "df_str30['Predict']=model_fit.predict(start=len(train),end=len(train)+len(test)-1,dynamic=True)"
   ]
  },
  {
   "cell_type": "code",
   "execution_count": null,
   "id": "da65265c",
   "metadata": {},
   "outputs": [],
   "source": [
    "df_str30[['Weekly_Sales','Predict']].plot()"
   ]
  },
  {
   "cell_type": "code",
   "execution_count": null,
   "id": "07899047",
   "metadata": {},
   "outputs": [],
   "source": [
    "forecast=model.forecast(step=60)\n",
    "df_str1_new.plot()\n",
    "forecast.plot()"
   ]
  },
  {
   "cell_type": "markdown",
   "id": "80402421",
   "metadata": {},
   "source": [
    "# Store 45"
   ]
  },
  {
   "cell_type": "code",
   "execution_count": null,
   "id": "0a477ce4",
   "metadata": {},
   "outputs": [],
   "source": [
    " df_str45=df[df.Store==45] "
   ]
  },
  {
   "cell_type": "code",
   "execution_count": null,
   "id": "4d736996",
   "metadata": {},
   "outputs": [],
   "source": [
    "df_str45"
   ]
  },
  {
   "cell_type": "code",
   "execution_count": null,
   "id": "ee124812",
   "metadata": {},
   "outputs": [],
   "source": [
    "sns.relplot[x='Unemployment',y='Weekly_Sales']"
   ]
  },
  {
   "cell_type": "code",
   "execution_count": null,
   "id": "5d3125ff",
   "metadata": {},
   "outputs": [],
   "source": [
    "df_str45= df_str45.drop(columns=['Date','Holiday_Flag','Temperature','Fuel_Price','CPI','Unemployment'],axis=1)"
   ]
  },
  {
   "cell_type": "code",
   "execution_count": null,
   "id": "1da64457",
   "metadata": {},
   "outputs": [],
   "source": [
    "df_str45"
   ]
  },
  {
   "cell_type": "code",
   "execution_count": null,
   "id": "e19f12dc",
   "metadata": {},
   "outputs": [],
   "source": [
    "df_str45.drop(columns=['Store'])"
   ]
  },
  {
   "cell_type": "code",
   "execution_count": null,
   "id": "cf6de3b0",
   "metadata": {},
   "outputs": [],
   "source": [
    "df_str45 = df_str45.reset_index()\n",
    "df_str45"
   ]
  },
  {
   "cell_type": "code",
   "execution_count": null,
   "id": "1792c767",
   "metadata": {},
   "outputs": [],
   "source": [
    "df_str45.drop(columns=['Store'])"
   ]
  },
  {
   "cell_type": "code",
   "execution_count": null,
   "id": "fed17eae",
   "metadata": {},
   "outputs": [],
   "source": [
    "df_str45.plot()\n"
   ]
  },
  {
   "cell_type": "code",
   "execution_count": null,
   "id": "c75d2006",
   "metadata": {},
   "outputs": [],
   "source": [
    "sns.relplot(x='Weekly_Sales',y='Unemployment',data=df_str45)"
   ]
  },
  {
   "cell_type": "markdown",
   "id": "cfeaf62c",
   "metadata": {},
   "source": [
    "# Arima"
   ]
  },
  {
   "cell_type": "code",
   "execution_count": null,
   "id": "87ca4c08",
   "metadata": {},
   "outputs": [],
   "source": [
    "order = auto_arima(df_str10['Weekly_Sales'])"
   ]
  },
  {
   "cell_type": "code",
   "execution_count": null,
   "id": "8ef3b058",
   "metadata": {},
   "outputs": [],
   "source": [
    "order.summary()"
   ]
  },
  {
   "cell_type": "markdown",
   "id": "ea92650e",
   "metadata": {},
   "source": [
    "# Model Building"
   ]
  },
  {
   "cell_type": "code",
   "execution_count": null,
   "id": "5831b956",
   "metadata": {},
   "outputs": [],
   "source": [
    "train =df_str45.iloc[:100]['Weekly_Sales']\n",
    "test = df_str45.iloc[101:]['Weekly_Sales']"
   ]
  },
  {
   "cell_type": "code",
   "execution_count": null,
   "id": "6a67e243",
   "metadata": {},
   "outputs": [],
   "source": [
    "train"
   ]
  },
  {
   "cell_type": "code",
   "execution_count": null,
   "id": "e90a5f30",
   "metadata": {},
   "outputs": [],
   "source": [
    "test"
   ]
  },
  {
   "cell_type": "code",
   "execution_count": null,
   "id": "a0b3116e",
   "metadata": {},
   "outputs": [],
   "source": [
    "model = ARIMA(train,order=(2,1,3))\n",
    "model_fit= model.fit()"
   ]
  },
  {
   "cell_type": "code",
   "execution_count": null,
   "id": "bc89fb8f",
   "metadata": {},
   "outputs": [],
   "source": [
    "df_str45['Predict']=model_fit.predict(start=len(train),end=len(train)+len(test)-1,dynamic=True)"
   ]
  },
  {
   "cell_type": "code",
   "execution_count": null,
   "id": "4085f7d3",
   "metadata": {},
   "outputs": [],
   "source": [
    "df_str45[['Weekly_Sales','Predict']].plot()"
   ]
  },
  {
   "cell_type": "markdown",
   "id": "3f6ebb72",
   "metadata": {},
   "source": [
    "# Sarimax"
   ]
  },
  {
   "cell_type": "code",
   "execution_count": null,
   "id": "e8de7c36",
   "metadata": {},
   "outputs": [],
   "source": [
    "model = SARIMAX(train,order=(3,0,3),seasonal_order=(3,0,3,365))\n",
    "model = model.fit()"
   ]
  },
  {
   "cell_type": "code",
   "execution_count": null,
   "id": "5adf6032",
   "metadata": {},
   "outputs": [],
   "source": [
    "df_str45['Predict']=model_fit.predict(start=len(train),end=len(train)+len(test)-1,dynamic=True)"
   ]
  },
  {
   "cell_type": "code",
   "execution_count": null,
   "id": "04964c30",
   "metadata": {},
   "outputs": [],
   "source": [
    "df_str45[['Weekly_Sales','Predict']].plot()"
   ]
  },
  {
   "cell_type": "code",
   "execution_count": null,
   "id": "5e2f0668",
   "metadata": {},
   "outputs": [],
   "source": [
    "forecast=model.forecast(step=60)\n",
    "df_str1_new.plot()\n",
    "forecast.plot()"
   ]
  },
  {
   "cell_type": "markdown",
   "id": "65f713f3",
   "metadata": {},
   "source": [
    "# Questions"
   ]
  },
  {
   "cell_type": "code",
   "execution_count": null,
   "id": "a0c72cc1",
   "metadata": {},
   "outputs": [],
   "source": [
    "#1.If the weekly sales are affected by the unemployment rate, if yes - which stores are suffering the most?"
   ]
  },
  {
   "cell_type": "code",
   "execution_count": null,
   "id": "31764d13",
   "metadata": {},
   "outputs": [],
   "source": [
    "#2.If the weekly sales show a seasonal trend, when and what could be the reason?"
   ]
  },
  {
   "cell_type": "code",
   "execution_count": null,
   "id": "ea0d7577",
   "metadata": {},
   "outputs": [],
   "source": [
    "#3.Does temperature affect the weekly sales in any manner?"
   ]
  },
  {
   "cell_type": "code",
   "execution_count": null,
   "id": "b7e34244",
   "metadata": {},
   "outputs": [],
   "source": [
    "#4.How is the Consumer Price index affecting the weekly sales of various stores?"
   ]
  },
  {
   "cell_type": "code",
   "execution_count": null,
   "id": "8cd0ca0a",
   "metadata": {},
   "outputs": [],
   "source": [
    "#5. Top performing stores according to the historical data."
   ]
  },
  {
   "cell_type": "code",
   "execution_count": null,
   "id": "7f75ffbc",
   "metadata": {},
   "outputs": [],
   "source": [
    "#The worst performing store, and how significant is the difference between the highest and lowest performing stores."
   ]
  },
  {
   "cell_type": "code",
   "execution_count": null,
   "id": "e7ff1eb5",
   "metadata": {},
   "outputs": [],
   "source": []
  },
  {
   "cell_type": "code",
   "execution_count": null,
   "id": "8b8025bd",
   "metadata": {},
   "outputs": [],
   "source": []
  }
 ],
 "metadata": {
  "kernelspec": {
   "display_name": "Python 3 (ipykernel)",
   "language": "python",
   "name": "python3"
  },
  "language_info": {
   "codemirror_mode": {
    "name": "ipython",
    "version": 3
   },
   "file_extension": ".py",
   "mimetype": "text/x-python",
   "name": "python",
   "nbconvert_exporter": "python",
   "pygments_lexer": "ipython3",
   "version": "3.9.13"
  }
 },
 "nbformat": 4,
 "nbformat_minor": 5
}
